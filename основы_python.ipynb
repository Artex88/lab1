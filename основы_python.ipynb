{
 "cells": [
  {
   "cell_type": "markdown",
   "metadata": {},
   "source": [
    "Задача 1\n",
    "Написать функцию на вход которой подается строка, состоящая из латинских букв. Функция должна вернуть количество гласных букв (a, e, i, o, u) в этой строке. Написать тесты для кода"
   ]
  },
  {
   "cell_type": "code",
   "execution_count": 3,
   "metadata": {
    "id": "XvX8X_JJ6PCb"
   },
   "outputs": [],
   "source": [
    "def get_vowels(s):\n",
    "    if not s.isalpha():\n",
    "        return \"Неправильная строка\"\n",
    "    s = s.lower();\n",
    "    return s.count('a') + s.count('e') + s.count('i') + s.count('o') + s.count('u')\n",
    "\n",
    "assert get_vowels(\"aaggg\") == 2\n",
    "assert get_vowels(\"rjrkmnbpljrrbfrfr\") == 0\n",
    "assert get_vowels(\"aienvdu\") == 4\n",
    "assert get_vowels(\"aeiou\") == 5\n",
    "assert get_vowels(\"a2\") == \"Неправильная строка\""
   ]
  },
  {
   "cell_type": "markdown",
   "metadata": {
    "id": "t2ClV_Y0bbr6"
   },
   "source": [
    "# Задача 2\n",
    "Написать функцию на вход, которой подается строка. Функция должна вернуть true, если\n",
    "каждый символ в строке встречается только 1 раз, иначе должна вернуть false. Написать тесты для кода"
   ]
  },
  {
   "cell_type": "code",
   "execution_count": 4,
   "metadata": {
    "id": "FppbECao6VIz"
   },
   "outputs": [],
   "source": [
    "def is_containts_unique_chars(s):\n",
    "    return len(set(s)) == len(s)\n",
    "\n",
    "assert is_containts_unique_chars(\"aaggg\") == False\n",
    "assert is_containts_unique_chars(\"rjrkmnbpljrrbfrfr\") == False\n",
    "assert is_containts_unique_chars(\"aienvdu\") == True\n",
    "assert is_containts_unique_chars(\"aeiou\") == True\n",
    "assert is_containts_unique_chars(\"abcdefghijklmnopqrstuvwxyzABCDEFGHIJKLMNOPQRSTUVWXYZ1234567890 .,/\\|{}[]()-+_=;'?!\") == True"
   ]
  },
  {
   "cell_type": "markdown",
   "metadata": {
    "id": "udRiIK1cdt6E"
   },
   "source": [
    "# Задача 3\n",
    "Написать функцию, которая принимает положительное число и возвращает количество\n",
    "бит равных 1 в этом числе. Написать тесты для кода"
   ]
  },
  {
   "cell_type": "code",
   "execution_count": 5,
   "metadata": {
    "id": "6tkfDJRz6dp_"
   },
   "outputs": [],
   "source": [
    "def get_bits(n):\n",
    "    return bin(n).count('1')\n",
    "    \n",
    "assert get_bits(1) == 1\n",
    "assert get_bits(0) == 0\n",
    "assert get_bits(125) == 6\n",
    "assert get_bits(1024) == 1"
   ]
  },
  {
   "cell_type": "markdown",
   "metadata": {
    "id": "26dDUz-Ae17N"
   },
   "source": [
    "# Задача 4\n",
    "Написать функцию, которая принимает положительное число. Функция должна вернуть то,\n",
    "сколько раз необходимо перемножать цифры числа или результат перемножения, чтобы\n",
    "получилось число состоящее из одной цифры.\n",
    "Например, для входного числа:\n",
    "· 39 функция должна вернуть 3, так как 3*9=27 => 2*7=14 => 1*4=4\n",
    "· 4 функция должна вернуть 0, так как число уже состоит из одной цифры\n",
    "· 999 функция должна вернуть 4, так как 9*9*9=729 => 7*2*9=126 => 1*2*6=12 =>\n",
    "1*2=2. Написать тесты для кода"
   ]
  },
  {
   "cell_type": "code",
   "execution_count": 6,
   "metadata": {
    "id": "BH1A_Mgi6i4G"
   },
   "outputs": [],
   "source": [
    "def magic(n):\n",
    "    if type(n) != int or n < 0:\n",
    "        return \"Неправильный аргумент\"\n",
    "    cnt = 0\n",
    "    while n % 10 != n:\n",
    "        newNumber = 1\n",
    "        while n > 0:\n",
    "            newNumber*= n % 10\n",
    "            n//=10\n",
    "        n = newNumber\n",
    "        cnt+=1\n",
    "    return cnt\n",
    "    \n",
    "assert magic(39) == 3    \n",
    "assert magic(999) == 4\n",
    "assert magic(126) == 2\n",
    "assert magic(1000) == 1\n",
    "assert magic(-1) == \"Неправильный аргумент\""
   ]
  },
  {
   "cell_type": "markdown",
   "metadata": {
    "id": "0nS-kIa8g8vd"
   },
   "source": [
    "# Задача 5\n",
    "Написать функцию, которая принимает два целочисленных вектора одинаковой длины и\n",
    "возвращает среднеквадратическое отклонение двух векторов. Написать тесты для кода"
   ]
  },
  {
   "cell_type": "code",
   "execution_count": 9,
   "metadata": {
    "id": "8iphx4LM6xbx"
   },
   "outputs": [],
   "source": [
    "def mse(pred, true):\n",
    "    if len(pred) != len(true):\n",
    "        return \"Векторы разной длины\"\n",
    "    n = len(pred)\n",
    "    sum_of_squares = sum((pred[i] - true[i]) ** 2 for i in range(n))\n",
    "    return (sum_of_squares / n)**0.5\n",
    "\n",
    "assert mse([1, 2, 3], [8, 9, 10]) == 7.0\n",
    "assert mse([4, 2, 3], [4, 9, 20]) == 10.614455552060438\n",
    "assert mse([1, 2, 3], [8, 9]) == \"Векторы разной длины\""
   ]
  },
  {
   "cell_type": "markdown",
   "metadata": {
    "id": "vpIPKL439zkw"
   },
   "source": [
    "# Задача 6\n",
    "Написать функцию, принимающая целое положительное число. Функция должна вернуть\n",
    "строку вида “(n1**p1)(n2**p2)…(nk**pk)” представляющая разложение числа на простые\n",
    "множители (если pi == 1, то выводить только ni).\n",
    "Например, для числа 86240 функция должна вернуть “(2**5)(5)(7**2)(11)”. Написать тесты для кода"
   ]
  },
  {
   "cell_type": "code",
   "execution_count": 10,
   "metadata": {
    "id": "pFebmcZk94Jw"
   },
   "outputs": [],
   "source": [
    "import math\n",
    "\n",
    "def get_factorization(n):\n",
    "    if type(n) != int or n < 0:\n",
    "        return \"Неправильный аргумент\"\n",
    "    list = []\n",
    "    factorization(n, list)\n",
    "    result = {i: list.count(i) for i in list}\n",
    "    string = \"\"\n",
    "    for key in result:\n",
    "            if (result[key] == 1):\n",
    "                string+= f\"({key})\"\n",
    "            else:\n",
    "                string+= f\"({key}**{result[key]})\"\n",
    "    return string\n",
    "                \n",
    "        \n",
    "\n",
    "\n",
    "\n",
    "def factorization(num, list):\n",
    "    while num != 1:\n",
    "        for i in range(2, math.ceil(math.sqrt(num)) + 2):\n",
    "                if num % i==0:\n",
    "                    list.append(i)\n",
    "                    num//=i\n",
    "                    break\n",
    "                if (i + 1 == math.ceil(math.sqrt(num)) + 2):\n",
    "                     list.append(num)\n",
    "                     num = 1\n",
    "                     break\n",
    "    return list\n",
    "    \n",
    "assert get_factorization(-1) == \"Неправильный аргумент\"\n",
    "assert get_factorization(86240) == \"(2**5)(5)(7**2)(11)\" \n",
    "assert get_factorization(11117) == \"(11117)\" \n",
    "assert get_factorization(5) == \"(5)\" \n",
    "assert get_factorization(54232) == \"(2**3)(6779)\" "
   ]
  },
  {
   "cell_type": "markdown",
   "metadata": {
    "id": "ps2s0BudX7A2"
   },
   "source": [
    "# Задача 7\n",
    "Написать функцию, принимающая целое число n, задающее количество кубиков. Функция\n",
    "должна определить, можно ли из данного кол-ва кубиков построить пирамиду, то есть\n",
    "можно ли представить число n как 1^2+2^2+3^2+…+k^2. Если можно, то функция должна\n",
    "вернуть k, иначе строку “It is impossible”. Написать тесты для кода"
   ]
  },
  {
   "cell_type": "code",
   "execution_count": 11,
   "metadata": {
    "id": "3YPjEXxhX_YT"
   },
   "outputs": [],
   "source": [
    "def pyramid(number):\n",
    "        if type(number) != int or number < 0:\n",
    "            return \"Неправильный аргумент\"\n",
    "        sum_of_squares, k = 0, 0\n",
    "        while sum_of_squares < number:\n",
    "            k += 1\n",
    "            sum_of_squares += k * k\n",
    "        if sum_of_squares == number:\n",
    "            return k\n",
    "        return \"It is impossible\"\n",
    "\n",
    "\n",
    "assert pyramid(1) == 1\n",
    "assert pyramid(14) == 3\n",
    "assert pyramid(328350) == 99\n",
    "assert pyramid(30) == 4\n",
    "assert pyramid(12) == \"It is impossible\"\n",
    "assert pyramid(5.1) == \"Неправильный аргумент\""
   ]
  },
  {
   "cell_type": "markdown",
   "metadata": {
    "id": "KeKgmIdAQMEJ"
   },
   "source": [
    "# Задача 8\n",
    "Функция принимает на вход положительное число и определяет является ли оно сбалансированным, т.е. сумма цифр до средних равна сумме цифр после. Средними в случае нечетного числа цифр считать одну цифру, в случае четного - две средних. Написать тесты для кода"
   ]
  },
  {
   "cell_type": "code",
   "execution_count": 12,
   "metadata": {
    "id": "gMAAqtqlQrZt"
   },
   "outputs": [],
   "source": [
    "def is_balanced(num):\n",
    "  arr = [int(value) for value in str(num)]\n",
    "  length = len(arr)\n",
    "  mean = length // 2\n",
    "  if length % 2 != 0:\n",
    "    left_part = arr[:mean]\n",
    "    right_part = arr[mean + 1:]\n",
    "  else:\n",
    "    left_part = arr[:mean - 1]\n",
    "    right_part = arr[mean + 1:]\n",
    "  return sum(left_part) == sum(right_part)\n",
    "\n",
    "assert is_balanced(456654) == True\n",
    "assert is_balanced(45654) == True\n",
    "assert is_balanced(123412) == True\n",
    "assert is_balanced(123456) == False\n",
    "assert is_balanced(12389) == False"
   ]
  }
 ],
 "metadata": {
  "colab": {
   "provenance": []
  },
  "kernelspec": {
   "display_name": "Python 3 (ipykernel)",
   "language": "python",
   "name": "python3"
  },
  "language_info": {
   "codemirror_mode": {
    "name": "ipython",
    "version": 3
   },
   "file_extension": ".py",
   "mimetype": "text/x-python",
   "name": "python",
   "nbconvert_exporter": "python",
   "pygments_lexer": "ipython3",
   "version": "3.10.12"
  }
 },
 "nbformat": 4,
 "nbformat_minor": 4
}
